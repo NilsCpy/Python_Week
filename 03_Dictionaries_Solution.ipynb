{
 "cells": [
  {
   "cell_type": "markdown",
   "metadata": {},
   "source": [
    "## Warm up Challenges"
   ]
  },
  {
   "cell_type": "markdown",
   "metadata": {
    "vscode": {
     "languageId": "plaintext"
    }
   },
   "source": [
    "### Training on counting duplicates"
   ]
  },
  {
   "cell_type": "code",
   "execution_count": null,
   "metadata": {},
   "outputs": [],
   "source": [
    "def duplicate_count(text):\n",
    "    text = text.lower()\n",
    "    dict_text = {}\n",
    "    for letter in text:\n",
    "        dict_text[letter] = text.count(letter)\n",
    "\n",
    "    nb_letters = 0\n",
    "    for value in dict_text.values():\n",
    "        if value > 1:\n",
    "            nb_letters +=1\n",
    "\n",
    "    return nb_letters"
   ]
  },
  {
   "cell_type": "code",
   "execution_count": 9,
   "metadata": {},
   "outputs": [],
   "source": [
    "def duplicate_count(text):\n",
    "    dic_text = {letter: text.lower().count(letter) for letter in text.lower()}\n",
    "    doubles = [i for i in dic_text.values() if i > 1]\n",
    "    return(len(doubles))"
   ]
  },
  {
   "cell_type": "markdown",
   "metadata": {
    "vscode": {
     "languageId": "plaintext"
    }
   },
   "source": [
    "### Duplicate encoder"
   ]
  },
  {
   "cell_type": "code",
   "execution_count": null,
   "metadata": {},
   "outputs": [],
   "source": [
    "def duplicate_encode(word):\n",
    "    word = word.lower()\n",
    "    dict_text = {}\n",
    "    for letter in word:\n",
    "        dict_text[letter] = word.count(letter)\n",
    "    result = ''\n",
    "    for letter in word:\n",
    "        if dict_text[letter] > 1:\n",
    "            result = result + ')'\n",
    "        else:\n",
    "            result = result + '('\n",
    "    return result"
   ]
  },
  {
   "cell_type": "code",
   "execution_count": null,
   "metadata": {},
   "outputs": [],
   "source": [
    "def duplicate_encode(word):\n",
    "    dic_text = {letter: word.lower().count(letter) for letter in word.lower()}\n",
    "    return ''.join(['(' if dic_text[letter] == 1 else ')' for letter in word.lower()])"
   ]
  },
  {
   "cell_type": "markdown",
   "metadata": {},
   "source": [
    "### Find the odd one"
   ]
  },
  {
   "cell_type": "code",
   "execution_count": null,
   "metadata": {},
   "outputs": [],
   "source": [
    "def find_it(seq):\n",
    "    dict_text = {}\n",
    "    for letter in seq:\n",
    "        dict_text[letter] = seq.count(letter)\n",
    "    for letter in dict_text.keys():\n",
    "        if dict_text[letter] % 2 != 0:\n",
    "            return letter"
   ]
  },
  {
   "cell_type": "code",
   "execution_count": null,
   "metadata": {},
   "outputs": [],
   "source": [
    "def find_it(seq):\n",
    "    dict_text = {letter: seq.count(letter) for letter in seq}\n",
    "    for letter in dict_text.keys():\n",
    "        if dict_text[letter] % 2 != 0:\n",
    "            return letter"
   ]
  },
  {
   "cell_type": "markdown",
   "metadata": {},
   "source": [
    "### Arrh, grabscrab!"
   ]
  },
  {
   "cell_type": "code",
   "execution_count": null,
   "metadata": {},
   "outputs": [],
   "source": [
    "def is_possible(test_w, dict_w):\n",
    "    dict_test = {letter: test_w.count(letter) for letter in test_w}\n",
    "    dict_dic = {letter: dict_w.count(letter) for letter in dict_w}\n",
    "    return(dict_test == dict_dic)\n",
    "\n",
    "def grabscrab(said, possible_words):\n",
    "    return([words for words in possible_words if is_possible(said, words)])"
   ]
  },
  {
   "cell_type": "markdown",
   "metadata": {},
   "source": [
    "## Simple Burger"
   ]
  },
  {
   "cell_type": "code",
   "execution_count": null,
   "metadata": {},
   "outputs": [],
   "source": [
    "### CODE"
   ]
  },
  {
   "cell_type": "markdown",
   "metadata": {},
   "source": [
    "## Advanced Burger"
   ]
  },
  {
   "cell_type": "code",
   "execution_count": null,
   "metadata": {},
   "outputs": [],
   "source": [
    "### CODE"
   ]
  },
  {
   "cell_type": "markdown",
   "metadata": {},
   "source": [
    "## Roman Numerals"
   ]
  },
  {
   "cell_type": "code",
   "execution_count": null,
   "metadata": {},
   "outputs": [],
   "source": [
    "### CODE"
   ]
  }
 ],
 "metadata": {
  "kernelspec": {
   "display_name": "lewagon_TA",
   "language": "python",
   "name": "python3"
  },
  "language_info": {
   "codemirror_mode": {
    "name": "ipython",
    "version": 3
   },
   "file_extension": ".py",
   "mimetype": "text/x-python",
   "name": "python",
   "nbconvert_exporter": "python",
   "pygments_lexer": "ipython3",
   "version": "3.10.6"
  }
 },
 "nbformat": 4,
 "nbformat_minor": 2
}
