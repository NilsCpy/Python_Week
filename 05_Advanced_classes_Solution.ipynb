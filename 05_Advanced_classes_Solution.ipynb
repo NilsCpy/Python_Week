{
 "cells": [
  {
   "cell_type": "markdown",
   "metadata": {},
   "source": [
    "## Warm up Challenges"
   ]
  },
  {
   "cell_type": "markdown",
   "metadata": {},
   "source": [
    "### Sum of Digits"
   ]
  },
  {
   "cell_type": "code",
   "execution_count": null,
   "metadata": {},
   "outputs": [],
   "source": [
    "def digital_root(n):\n",
    "    while n > 9:\n",
    "        n_temp = 0\n",
    "        for i in list(str(n)):\n",
    "            n_temp = n_temp + int(i)\n",
    "        n = n_temp\n",
    "    return n"
   ]
  },
  {
   "cell_type": "code",
   "execution_count": null,
   "metadata": {},
   "outputs": [],
   "source": [
    "def digital_root(n):\n",
    "    while n > 9:\n",
    "        n = sum([int(i) for i in list(str(n))])\n",
    "    return n"
   ]
  },
  {
   "cell_type": "code",
   "execution_count": null,
   "metadata": {},
   "outputs": [],
   "source": [
    "def digital_root(n):\n",
    "\treturn n%9 or n and 9"
   ]
  },
  {
   "cell_type": "markdown",
   "metadata": {},
   "source": [
    "### Stop gninnipS My sdroW!"
   ]
  },
  {
   "cell_type": "code",
   "execution_count": null,
   "metadata": {},
   "outputs": [],
   "source": [
    "def spin_words(sentence):\n",
    "    list_words = sentence.split()\n",
    "    final_sentence = []\n",
    "    for word in list_words:\n",
    "        if len(word)>=5:\n",
    "            final_sentence.append(word[::-1])\n",
    "        else:\n",
    "            final_sentence.append(word)\n",
    "    return ' '.join(final_sentence)"
   ]
  },
  {
   "cell_type": "code",
   "execution_count": null,
   "metadata": {},
   "outputs": [],
   "source": [
    "def spin_words(sentence):\n",
    "    return ' '.join([i if len(i) < 5 else i[::-1] for i in sentence.split()])"
   ]
  },
  {
   "cell_type": "markdown",
   "metadata": {},
   "source": [
    "### Create a Phone Number"
   ]
  },
  {
   "cell_type": "code",
   "execution_count": null,
   "metadata": {},
   "outputs": [],
   "source": [
    "def create_phone_number(n):\n",
    "    phone_number = '('\n",
    "    for i in range(10):\n",
    "        phone_number = phone_number + str(n[i])\n",
    "        if i == 2:\n",
    "            phone_number = phone_number + ') '\n",
    "        if i == 5:\n",
    "            phone_number = phone_number + '-'\n",
    "    return phone_number"
   ]
  },
  {
   "cell_type": "code",
   "execution_count": null,
   "metadata": {},
   "outputs": [],
   "source": [
    "def create_phone_number(n):\n",
    "    return f\"({''.join(map(str, n[:3]))}) {''.join(map(str, n[3:6]))}-{''.join(map(str, n[6:]))}\""
   ]
  },
  {
   "cell_type": "markdown",
   "metadata": {},
   "source": [
    "### The Supermarket Queue"
   ]
  },
  {
   "cell_type": "code",
   "execution_count": null,
   "metadata": {},
   "outputs": [],
   "source": [
    "def queue_time(customers, n):\n",
    "    l = [0]*n\n",
    "    for customer in customers:\n",
    "        mini_l = min(l)\n",
    "        l[l.index(mini_l)] += customer\n",
    "    longest = max(l)\n",
    "    return longest"
   ]
  },
  {
   "cell_type": "code",
   "execution_count": 1,
   "metadata": {},
   "outputs": [],
   "source": [
    "def queue_time(customers, n):\n",
    "    l=[0]*n\n",
    "    for i in customers:\n",
    "        l[l.index(min(l))]+=i\n",
    "    return max(l)"
   ]
  },
  {
   "cell_type": "markdown",
   "metadata": {},
   "source": [
    "### Loose Change"
   ]
  },
  {
   "cell_type": "code",
   "execution_count": null,
   "metadata": {},
   "outputs": [],
   "source": [
    "def loose_change(cents):\n",
    "\tcents = int(cents)\n",
    "\tchange_dict = {'Pennies': 0, 'Nickels': 0, 'Dimes': 0, 'Quarters': 0}\n",
    "\n",
    "\twhile cents >= 25:\n",
    "\t\t\tcents -= 25\n",
    "\t\t\tchange_dict['Quarters'] += 1\n",
    "\n",
    "\twhile cents  >= 10:\n",
    "\t\t\tcents -= 10\n",
    "\t\t\tchange_dict['Dimes'] += 1\n",
    "\n",
    "\twhile cents  >= 5:\n",
    "\t\t\tcents -= 5\n",
    "\t\t\tchange_dict['Nickels'] += 1\n",
    "\n",
    "\twhile cents  >= 1:\n",
    "\t\t\tcents -= 1\n",
    "\t\t\tchange_dict['Pennies'] += 1\n",
    "\n",
    "\treturn change_dict"
   ]
  },
  {
   "cell_type": "code",
   "execution_count": null,
   "metadata": {},
   "outputs": [],
   "source": [
    "def loose_change(cents):\n",
    "    c = max(int(cents), 0)\n",
    "    return {'Quarters': c//25, 'Dimes': c%25//10, 'Nickels': c%25%10//5, 'Pennies': c%5}"
   ]
  },
  {
   "cell_type": "markdown",
   "metadata": {},
   "source": [
    "## Dog Inheritance"
   ]
  },
  {
   "cell_type": "code",
   "execution_count": 1,
   "metadata": {},
   "outputs": [],
   "source": [
    "class Dog:\n",
    "    def bark(self):\n",
    "        print(\"woof woof\")\n",
    "# Do not modify the code above\n",
    "\n",
    "class GermanShepherd(Dog):\n",
    "    pass"
   ]
  },
  {
   "cell_type": "markdown",
   "metadata": {},
   "source": [
    "## Dessert Inheritance"
   ]
  },
  {
   "cell_type": "code",
   "execution_count": null,
   "metadata": {},
   "outputs": [],
   "source": [
    "class Dessert:\n",
    "    def __init__(self, name, calories):\n",
    "        self.name = name\n",
    "        self.calories = calories\n",
    "\n",
    "    def healthy(self):\n",
    "        return self.calories < 200\n",
    "\n",
    "    def delicious(self):\n",
    "        return True\n",
    "\n",
    "class JellyBean(Dessert):\n",
    "    def __init__(self, name, calories, flavor):\n",
    "        super().__init__(name, calories)\n",
    "        self.flavor = flavor\n",
    "\n",
    "    def delicious(self):\n",
    "          return super().delicious() and self.flavor != 'black licorice'"
   ]
  },
  {
   "cell_type": "markdown",
   "metadata": {},
   "source": [
    "## City JSON"
   ]
  },
  {
   "cell_type": "code",
   "execution_count": null,
   "metadata": {},
   "outputs": [],
   "source": [
    "import os; os.system(\"pip install requests\")\n",
    "import requests\n",
    "response = requests.get(\"https://weather.lewagon.com/geo/1.0/direct?q=london\").json()\n",
    "# Do not modify the code above\n",
    "\n",
    "def city_info(resp):\n",
    "    return {'city': resp[0]['name'],\n",
    "           'lat' : resp[0]['lat'],\n",
    "           'lon' : resp[0]['lon']}\n"
   ]
  },
  {
   "cell_type": "markdown",
   "metadata": {},
   "source": [
    "## Weather JSON"
   ]
  },
  {
   "cell_type": "code",
   "execution_count": null,
   "metadata": {},
   "outputs": [],
   "source": [
    "import os\n",
    "import requests\n",
    "response = requests.get(\"https://weather.lewagon.com/data/2.5/forecast?lat=51.5073219&lon=-0.1276474&units=metric\").json()\n",
    "# Do not modify the code above\n",
    "\n",
    "import datetime\n",
    "\n",
    "def weather_forecast(name):\n",
    "\n",
    "    def city_info(city_name):\n",
    "        city_name = city_name.lower()\n",
    "        response = requests.get(f\"https://weather.lewagon.com/geo/1.0/direct?q={city_name}\").json()\n",
    "        city_details = {\n",
    "            'city': response[0]['name'],\n",
    "            'lat': response[0]['lat'],\n",
    "            'lon': response[0]['lon']\n",
    "        }\n",
    "        return city_details\n",
    "\n",
    "    # Get city information\n",
    "    city_data = city_info(name['city']['name'])\n",
    "    lat = city_data['lat']\n",
    "    lon = city_data['lon']\n",
    "    city = city_data['city']\n",
    "\n",
    "\n",
    "    response = requests.get(f\"https://weather.lewagon.com/data/2.5/forecast?lat={lat}&lon={lon}&units=metric\").json()\n",
    "\n",
    "    for i in range(len(response['list'])):\n",
    "        date = str(datetime.date.today() + datetime.timedelta(days=1)) + \" 06:00:00\"\n",
    "        if response['list'][i]['dt_txt'] == date:\n",
    "            indice = i\n",
    "\n",
    "    description = response['list'][indice]['weather'][0]['description']\n",
    "\n",
    "    print(city,' : ', description)\n",
    "\n",
    "    return f\"The weather tomorrow the {date} in {city} is {description}\""
   ]
  }
 ],
 "metadata": {
  "kernelspec": {
   "display_name": "lewagon_TA",
   "language": "python",
   "name": "python3"
  },
  "language_info": {
   "codemirror_mode": {
    "name": "ipython",
    "version": 3
   },
   "file_extension": ".py",
   "mimetype": "text/x-python",
   "name": "python",
   "nbconvert_exporter": "python",
   "pygments_lexer": "ipython3",
   "version": "3.10.6"
  }
 },
 "nbformat": 4,
 "nbformat_minor": 2
}
