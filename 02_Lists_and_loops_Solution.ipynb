{
 "cells": [
  {
   "cell_type": "markdown",
   "metadata": {},
   "source": [
    "## Warm up Challenges"
   ]
  },
  {
   "cell_type": "markdown",
   "metadata": {},
   "source": [
    "### Testing 1-2-3"
   ]
  },
  {
   "cell_type": "code",
   "execution_count": 1,
   "metadata": {},
   "outputs": [],
   "source": [
    "def number(lines):\n",
    "    results = []\n",
    "    for i, line in enumerate(lines):\n",
    "        results.append(f'{i+1}: {line}')\n",
    "    return results"
   ]
  },
  {
   "cell_type": "code",
   "execution_count": 3,
   "metadata": {},
   "outputs": [],
   "source": [
    "def number(lines):\n",
    "    return [f'{i}: {line}' for i, line in enumerate(lines, 1)]"
   ]
  },
  {
   "cell_type": "markdown",
   "metadata": {},
   "source": [
    "### Running out of space"
   ]
  },
  {
   "cell_type": "code",
   "execution_count": 5,
   "metadata": {},
   "outputs": [],
   "source": [
    "def spacey(array):\n",
    "    results = [array[0]]\n",
    "    for idx in range(len(array)-1):\n",
    "        results.append(results[-1] + array[idx+1])\n",
    "    return results"
   ]
  },
  {
   "cell_type": "code",
   "execution_count": 12,
   "metadata": {},
   "outputs": [],
   "source": [
    "def spacey(array):\n",
    "    return [''.join(array[:i+1]) for i in range(len(array))]"
   ]
  },
  {
   "cell_type": "markdown",
   "metadata": {},
   "source": [
    "### Sum of the two lowest integers"
   ]
  },
  {
   "cell_type": "code",
   "execution_count": 30,
   "metadata": {},
   "outputs": [],
   "source": [
    "def sum_two_smallest_numbers(numbers):\n",
    "    a = min(numbers)\n",
    "    numbers.remove(a)\n",
    "    b = min(numbers)\n",
    "    return a+b"
   ]
  },
  {
   "cell_type": "code",
   "execution_count": 42,
   "metadata": {},
   "outputs": [],
   "source": [
    "def sum_two_smallest_numbers(numbers):\n",
    "    return sum(sorted(numbers)[:2])"
   ]
  },
  {
   "cell_type": "markdown",
   "metadata": {},
   "source": [
    "### Password Validator"
   ]
  },
  {
   "cell_type": "code",
   "execution_count": 44,
   "metadata": {},
   "outputs": [],
   "source": [
    "def password(st):\n",
    "\n",
    "    if len(st)<8:\n",
    "        return False\n",
    "\n",
    "    is_upper = False\n",
    "    is_lower = False\n",
    "    is_num = False\n",
    "    for char in st:\n",
    "        if char.isupper():\n",
    "            is_upper = True\n",
    "        if char.islower():\n",
    "            is_lower = True\n",
    "        if char.isnumeric():\n",
    "            is_num = True\n",
    "\n",
    "    return is_upper and is_lower and is_num"
   ]
  },
  {
   "cell_type": "code",
   "execution_count": null,
   "metadata": {},
   "outputs": [],
   "source": [
    "def password(st):\n",
    "    return (len(st) > 8) and (st.upper() != st) and (st.lower() != st) and any(char.isdigit() for char in st)"
   ]
  },
  {
   "cell_type": "markdown",
   "metadata": {},
   "source": [
    "### Password Maker"
   ]
  },
  {
   "cell_type": "code",
   "execution_count": null,
   "metadata": {},
   "outputs": [],
   "source": [
    "def make_password(phrase):\n",
    "    result = ''\n",
    "    next_letter = True\n",
    "    for letter in phrase:\n",
    "        if next_letter == True:\n",
    "            added_letter = letter\n",
    "            if letter.upper() == 'O':\n",
    "                added_letter = '0'\n",
    "            if letter.upper() == 'I':\n",
    "                added_letter = '1'\n",
    "            if letter.upper() == 'S':\n",
    "                added_letter = '5'\n",
    "            result = result + added_letter\n",
    "            next_letter = False\n",
    "        if letter == ' ':\n",
    "            next_letter = True\n",
    "    return result\n"
   ]
  },
  {
   "cell_type": "code",
   "execution_count": null,
   "metadata": {},
   "outputs": [],
   "source": [
    "def make_password(phrase):\n",
    "    return ''.join([word[0] for word in phrase.replace('i', '1')\\\n",
    "                                                .replace('I', '1')\\\n",
    "                                                .replace('o', '0')\\\n",
    "                                                .replace('O', '0')\\\n",
    "                                                .replace('s', '5')\\\n",
    "                                                .replace('S', '5').split()])"
   ]
  },
  {
   "cell_type": "markdown",
   "metadata": {},
   "source": [
    "### String's even character"
   ]
  },
  {
   "cell_type": "code",
   "execution_count": 1,
   "metadata": {},
   "outputs": [],
   "source": [
    "def even_chars(st):\n",
    "    if len(st)<2 or len(st)>100:\n",
    "        return 'invalid string'\n",
    "\n",
    "    list_result = []\n",
    "    for idx in range(len(st)):\n",
    "        if idx % 2 == 1:\n",
    "            list_result.append(st[idx])\n",
    "\n",
    "    return list_result"
   ]
  },
  {
   "cell_type": "code",
   "execution_count": 3,
   "metadata": {},
   "outputs": [],
   "source": [
    "def even_chars(st):\n",
    "    return 'invalid string' if len(st)<2 or len(st)>100 else [st[idx] for idx in range(1, len(st), 2)]"
   ]
  },
  {
   "cell_type": "markdown",
   "metadata": {},
   "source": [
    "### Manhattan distance"
   ]
  },
  {
   "cell_type": "code",
   "execution_count": null,
   "metadata": {},
   "outputs": [],
   "source": [
    "def manhattan_distance(pointA, pointB):\n",
    "    return abs(pointA[0] - pointB[0]) + abs(pointA[1] - pointB[1])"
   ]
  },
  {
   "cell_type": "markdown",
   "metadata": {},
   "source": [
    "### Mexican wave"
   ]
  },
  {
   "cell_type": "code",
   "execution_count": null,
   "metadata": {},
   "outputs": [],
   "source": [
    "def wave(people):\n",
    "    result = []\n",
    "    for idx in range(len(people)):\n",
    "        if people[idx] != ' ':\n",
    "            result.append(people[:idx] + people[idx].upper() + people[idx+1:])\n",
    "    return result"
   ]
  },
  {
   "cell_type": "code",
   "execution_count": null,
   "metadata": {},
   "outputs": [],
   "source": [
    "def wave(people):\n",
    "    return [people[:idx] + people[idx:].capitalize() for idx in range(len(people)) if people[idx] != ' ']"
   ]
  },
  {
   "cell_type": "markdown",
   "metadata": {},
   "source": [
    "### Multiplication Table"
   ]
  },
  {
   "cell_type": "code",
   "execution_count": null,
   "metadata": {},
   "outputs": [],
   "source": [
    "def multiplication_table(size):\n",
    "    result = []\n",
    "    for mult in range(1, size+1):\n",
    "        line = []\n",
    "        for elem in range(1, size+1):\n",
    "            line.append(elem*mult)\n",
    "        result.append(line)\n",
    "    return result"
   ]
  },
  {
   "cell_type": "code",
   "execution_count": 5,
   "metadata": {},
   "outputs": [
    {
     "data": {
      "text/plain": [
       "[1, 2, 1, 2]"
      ]
     },
     "execution_count": 5,
     "metadata": {},
     "output_type": "execute_result"
    }
   ],
   "source": [
    "def multiplication_table(size):\n",
    "    return[[elem*mult for elem in range(1, size+1)] for mult in range(1, size+1)]"
   ]
  },
  {
   "cell_type": "markdown",
   "metadata": {},
   "source": [
    "## Calculator"
   ]
  },
  {
   "cell_type": "code",
   "execution_count": null,
   "metadata": {},
   "outputs": [],
   "source": [
    "def str_to_float(char):\n",
    "    try:\n",
    "        return(float(char))\n",
    "    except:\n",
    "        return(False)\n",
    "\n",
    "def simple_calculator(command):\n",
    "\n",
    "    list_op = ['+', '-', '*', '/', '%']\n",
    "    op = command[1]\n",
    "\n",
    "    if len(command) != 3 or not(str_to_float(command[0]) and str_to_float(command[2])):\n",
    "        return(\"Please enter valid format: [Operand, Operator, Operand]\")\n",
    "    if not(op in list_op):\n",
    "        return('Please enter a valid operator [ +, -, /, *, % ]')\n",
    "\n",
    "    num_1 = str_to_float(command[0])\n",
    "    num_2 = str_to_float(command[2])\n",
    "\n",
    "    if op == '+':\n",
    "        return num_1 + num_2\n",
    "    if op == '-':\n",
    "        return num_1 - num_2\n",
    "    if op == '*':\n",
    "        return num_1 * num_2\n",
    "    if op == '/':\n",
    "        return num_1 / num_2\n",
    "    if op == '%':\n",
    "        return num_1 % num_2"
   ]
  },
  {
   "cell_type": "code",
   "execution_count": null,
   "metadata": {},
   "outputs": [],
   "source": [
    "def simple_calculator(input_list):\n",
    "    if len(input_list) != 3:\n",
    "        return 'Please enter valid format: [Operand, Operator, Operand]'\n",
    "\n",
    "    operand1, operator, operand2 = input_list\n",
    "\n",
    "    try:\n",
    "        operand1 = float(operand1)\n",
    "        operand2 = float(operand2)\n",
    "    except ValueError:\n",
    "        return 'Please enter valid format: [Operand, Operator, Operand]'\n",
    "\n",
    "    if operator == '+':\n",
    "        return operand1 + operand2\n",
    "    elif operator == '-':\n",
    "        return operand1 - operand2\n",
    "    elif operator == '*':\n",
    "        return operand1 * operand2\n",
    "    elif operator == '/':\n",
    "        if operand2 == 0:\n",
    "            return 'Division by zero is not allowed'\n",
    "        return operand1 / operand2\n",
    "    elif operator == '%':\n",
    "        return operand1 % operand2\n",
    "    else:\n",
    "        return 'Please enter a valid operator [ +, -, /, *, % ]'\n"
   ]
  },
  {
   "cell_type": "markdown",
   "metadata": {},
   "source": [
    "## Fizz Buzz"
   ]
  },
  {
   "cell_type": "code",
   "execution_count": null,
   "metadata": {},
   "outputs": [],
   "source": [
    "def transform(numb):\n",
    "    if numb%3 == 0 and numb%5 == 0:\n",
    "        return(\"FizzBuzz\")\n",
    "    if numb%3 == 0:\n",
    "        return(\"Fizz\")\n",
    "    if numb%5 == 0:\n",
    "        return(\"Buzz\")\n",
    "    return(numb)\n",
    "\n",
    "def fizz_buzz(n):\n",
    "    return([transform(num) for num in range(1, n+1)])"
   ]
  },
  {
   "cell_type": "markdown",
   "metadata": {},
   "source": [
    "## Shuffle"
   ]
  },
  {
   "cell_type": "code",
   "execution_count": null,
   "metadata": {},
   "outputs": [],
   "source": [
    "import random as rd\n",
    "\n",
    "def manual_shuffle(liste_or):\n",
    "    listeA = liste_or.copy()\n",
    "    listeB = []\n",
    "    while len(listeA) > 0:\n",
    "        l = len(listeA)\n",
    "        rand_ind = rd.randint(0, l-1)\n",
    "        listeB.append(listeA[rand_ind])\n",
    "        listeA.pop(rand_ind)\n",
    "    return(listeB)"
   ]
  }
 ],
 "metadata": {
  "kernelspec": {
   "display_name": "lewagon_TA",
   "language": "python",
   "name": "python3"
  },
  "language_info": {
   "codemirror_mode": {
    "name": "ipython",
    "version": 3
   },
   "file_extension": ".py",
   "mimetype": "text/x-python",
   "name": "python",
   "nbconvert_exporter": "python",
   "pygments_lexer": "ipython3",
   "version": "3.10.6"
  }
 },
 "nbformat": 4,
 "nbformat_minor": 2
}
