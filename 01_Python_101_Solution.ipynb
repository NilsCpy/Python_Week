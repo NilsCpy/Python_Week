{
 "cells": [
  {
   "cell_type": "markdown",
   "metadata": {},
   "source": [
    "## Warm up Challenges"
   ]
  },
  {
   "cell_type": "markdown",
   "metadata": {},
   "source": [
    "### Hello, Name or World!"
   ]
  },
  {
   "cell_type": "code",
   "execution_count": 5,
   "metadata": {},
   "outputs": [],
   "source": [
    "def hello(name = ''):\n",
    "    if name :\n",
    "        return 'Hello, ' + name.capitalize() + '!'\n",
    "    else :\n",
    "        return 'Hello, World!'"
   ]
  },
  {
   "cell_type": "code",
   "execution_count": 10,
   "metadata": {},
   "outputs": [],
   "source": [
    "def hello(name = ''):\n",
    "    return f'Hello, {name.capitalize() if name else \"World\"}!'"
   ]
  },
  {
   "cell_type": "markdown",
   "metadata": {},
   "source": [
    "### Area or Perimeter"
   ]
  },
  {
   "cell_type": "code",
   "execution_count": 15,
   "metadata": {},
   "outputs": [],
   "source": [
    "def area_or_perimeter(length, width):\n",
    "    if length == width:\n",
    "        return length * width\n",
    "    else:\n",
    "        return 2*(length + width)"
   ]
  },
  {
   "cell_type": "markdown",
   "metadata": {},
   "source": [
    "### Keep Hydrated"
   ]
  },
  {
   "cell_type": "code",
   "execution_count": 22,
   "metadata": {},
   "outputs": [],
   "source": [
    "def litres(time):\n",
    "    return int(time*0.5)"
   ]
  },
  {
   "cell_type": "code",
   "execution_count": 23,
   "metadata": {},
   "outputs": [],
   "source": [
    "def litres(time):\n",
    "    return time // 2"
   ]
  },
  {
   "cell_type": "markdown",
   "metadata": {},
   "source": [
    "### Is the string upcase?"
   ]
  },
  {
   "cell_type": "code",
   "execution_count": 24,
   "metadata": {},
   "outputs": [],
   "source": [
    "def is_uppercase(inp):\n",
    "    return inp == inp.upper()"
   ]
  },
  {
   "cell_type": "markdown",
   "metadata": {},
   "source": [
    "## What is your name"
   ]
  },
  {
   "cell_type": "code",
   "execution_count": null,
   "metadata": {},
   "outputs": [],
   "source": [
    "def compute_name(first_name, middle_name, last_name):\n",
    "    return f'{first_name} {middle_name} {last_name}'"
   ]
  },
  {
   "cell_type": "markdown",
   "metadata": {},
   "source": [
    "## Check divisibility"
   ]
  },
  {
   "cell_type": "code",
   "execution_count": null,
   "metadata": {},
   "outputs": [],
   "source": [
    "def check_divisibility(num, a, b):\n",
    "    if num % a == 0 and num % b == 0:\n",
    "        return True\n",
    "    else:\n",
    "        return False"
   ]
  },
  {
   "cell_type": "code",
   "execution_count": null,
   "metadata": {},
   "outputs": [],
   "source": [
    "def check_divisibility(num, a, b):\n",
    "    return num % a == num % b == 0"
   ]
  },
  {
   "cell_type": "markdown",
   "metadata": {},
   "source": [
    "## Stupid Coaching"
   ]
  },
  {
   "cell_type": "code",
   "execution_count": null,
   "metadata": {},
   "outputs": [],
   "source": [
    "def coach_answer(your_message):\n",
    "    if your_message == \"I am going to work right now!\":\n",
    "        return ''\n",
    "    elif your_message[-1] == '?':\n",
    "        return \"Silly question, get dressed and go to work!\"\n",
    "    else:\n",
    "        return \"I don't care, get dressed and go to work!\"\n"
   ]
  },
  {
   "cell_type": "code",
   "execution_count": null,
   "metadata": {},
   "outputs": [],
   "source": [
    "def coach_answer_enhanced(your_message):\n",
    "    if your_message.capitalize() == \"I am going to work right now!\":\n",
    "        return ''\n",
    "    elif your_message[-1] == '?':\n",
    "        if your_message.isupper():\n",
    "            return \"I can feel your motivation! Silly question, get dressed and go to work!\"\n",
    "        return \"Silly question, get dressed and go to work!\"\n",
    "    else:\n",
    "        if your_message.isupper():\n",
    "            return \"I can feel your motivation! I don't care, get dressed and go to work!\"\n",
    "        return \"I don't care, get dressed and go to work!\""
   ]
  },
  {
   "cell_type": "markdown",
   "metadata": {},
   "source": [
    "## Colorful Algorithm"
   ]
  },
  {
   "cell_type": "code",
   "execution_count": 42,
   "metadata": {},
   "outputs": [],
   "source": [
    "def is_colorful(num):\n",
    "\n",
    "    num_str = str(num)\n",
    "\n",
    "    a = int(num_str[0])\n",
    "    b = int(num_str[1])\n",
    "    ab = a*b\n",
    "\n",
    "    results = [a, b, ab]\n",
    "\n",
    "    if len(num_str) == 3:\n",
    "        c = int(num_str[2])\n",
    "        bc = b*c\n",
    "        abc = a*b*c\n",
    "\n",
    "        results = results + [c, bc, abc]\n",
    "\n",
    "    return len(results) == len(set(results))"
   ]
  }
 ],
 "metadata": {
  "kernelspec": {
   "display_name": "lewagon_TA",
   "language": "python",
   "name": "python3"
  },
  "language_info": {
   "codemirror_mode": {
    "name": "ipython",
    "version": 3
   },
   "file_extension": ".py",
   "mimetype": "text/x-python",
   "name": "python",
   "nbconvert_exporter": "python",
   "pygments_lexer": "ipython3",
   "version": "3.10.6"
  }
 },
 "nbformat": 4,
 "nbformat_minor": 2
}
