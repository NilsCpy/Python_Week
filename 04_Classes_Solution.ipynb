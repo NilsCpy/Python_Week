{
 "cells": [
  {
   "cell_type": "markdown",
   "metadata": {},
   "source": [
    "## Warm up Challenges"
   ]
  },
  {
   "cell_type": "markdown",
   "metadata": {},
   "source": [
    "### Classy classes"
   ]
  },
  {
   "cell_type": "code",
   "execution_count": null,
   "metadata": {},
   "outputs": [],
   "source": [
    "class Person():\n",
    "    def __init__(self, name, age):\n",
    "        self.info=f\"{name}s age is {age}\""
   ]
  },
  {
   "cell_type": "markdown",
   "metadata": {},
   "source": [
    "### Regular ball Super ball"
   ]
  },
  {
   "cell_type": "code",
   "execution_count": null,
   "metadata": {},
   "outputs": [],
   "source": [
    "class Ball(object):\n",
    "    def __init__(self, ball_type = 'regular'):\n",
    "        self.ball_type = ball_type"
   ]
  },
  {
   "cell_type": "markdown",
   "metadata": {},
   "source": [
    "### Object Oriented Piracy"
   ]
  },
  {
   "cell_type": "code",
   "execution_count": null,
   "metadata": {},
   "outputs": [],
   "source": [
    "class Ship:\n",
    "    def __init__(self, draft, crew):\n",
    "        self.draft = draft\n",
    "        self.crew = crew\n",
    "\n",
    "    def is_worth_it(self):\n",
    "        weight_without_crew = self.draft - 1.5*self.crew\n",
    "        if weight_without_crew > 20:\n",
    "            return True\n",
    "        return False"
   ]
  },
  {
   "cell_type": "code",
   "execution_count": null,
   "metadata": {},
   "outputs": [],
   "source": [
    "class Ship:\n",
    "    def __init__(self, draft, crew):\n",
    "        self.draft = draft\n",
    "        self.crew = crew\n",
    "\n",
    "    def is_worth_it(self):\n",
    "        return self.draft - 1.5*self.crew > 20"
   ]
  },
  {
   "cell_type": "markdown",
   "metadata": {},
   "source": [
    "### Sleigh Authentication"
   ]
  },
  {
   "cell_type": "code",
   "execution_count": null,
   "metadata": {},
   "outputs": [],
   "source": [
    "class Sleigh(object):\n",
    "    def authenticate(self, name, password):\n",
    "        name_is_ok = name == 'Santa Claus'\n",
    "        password_is_ok = password == 'Ho Ho Ho!'\n",
    "        return name_is_ok and password_is_ok"
   ]
  },
  {
   "cell_type": "code",
   "execution_count": null,
   "metadata": {},
   "outputs": [],
   "source": [
    "class Sleigh(object):\n",
    "    def authenticate(self, name, password):\n",
    "        return name == 'Santa Claus' and password == 'Ho Ho Ho!'"
   ]
  },
  {
   "cell_type": "markdown",
   "metadata": {},
   "source": [
    "### User class for Banking system"
   ]
  },
  {
   "cell_type": "code",
   "execution_count": null,
   "metadata": {},
   "outputs": [],
   "source": [
    "class User(object):\n",
    "    def __init__(self, name, balance, checking_account):\n",
    "        self.name = name\n",
    "        self.balance = balance\n",
    "        self.checking_account = checking_account\n",
    "\n",
    "    def withdraw(self, amount):\n",
    "        if self.balance < amount:\n",
    "            raise ValueError\n",
    "        if amount > self.balance:\n",
    "            self.balance = 0\n",
    "        else:\n",
    "            self.balance = self.balance - amount\n",
    "        return f'{self.name} has {self.balance}.'\n",
    "\n",
    "    def check(self, other_user, amount):\n",
    "        if other_user.balance < amount:\n",
    "            raise ValueError\n",
    "        if other_user.checking_account == False:\n",
    "            raise ValueError\n",
    "        other_user.balance = other_user.balance - amount\n",
    "        self.balance = self.balance + amount\n",
    "        return f'{self.name} has {self.balance} and {other_user.name} has {other_user.balance}.'\n",
    "\n",
    "    def add_cash(self, amount):\n",
    "        self.balance += amount\n",
    "        return f'{self.name} has {self.balance}.'"
   ]
  },
  {
   "cell_type": "code",
   "execution_count": null,
   "metadata": {},
   "outputs": [],
   "source": [
    "class User(object):\n",
    "    def __init__(self, name, balance, checking_account):\n",
    "        self.name = name\n",
    "        self.balance = balance\n",
    "        self.checking_account = checking_account\n",
    "\n",
    "    def withdraw(self, amount):\n",
    "        if self.balance < amount:\n",
    "            raise ValueError\n",
    "        self.balance = max(0, self.balance - amount)\n",
    "        return f'{self.name} has {self.balance}.'\n",
    "\n",
    "    def check(self, other_user, amount):\n",
    "        if other_user.balance < amount or not other_user.checking_account:\n",
    "            raise ValueError\n",
    "\n",
    "        other_user.balance -= amount\n",
    "        self.balance += amount\n",
    "        return f'{self.name} has {self.balance} and {other_user.name} has {other_user.balance}.'\n",
    "\n",
    "    def add_cash(self, amount):\n",
    "        self.balance += amount\n",
    "        return f'{self.name} has {self.balance}.'"
   ]
  },
  {
   "cell_type": "markdown",
   "metadata": {},
   "source": [
    "### Potion 101"
   ]
  },
  {
   "cell_type": "code",
   "execution_count": null,
   "metadata": {},
   "outputs": [],
   "source": [
    "import math\n",
    "\n",
    "class Potion:\n",
    "    def __init__(self, color, volume):\n",
    "        self.color = color\n",
    "        self.volume = volume\n",
    "\n",
    "    def mix(self, other):\n",
    "        new_volume = self.volume + other.volume\n",
    "        result_color = []\n",
    "        for idx in range(3):\n",
    "            # A nettoyer un peu\n",
    "            result_color.append(math.ceil(((self.color[idx]*self.volume) + (other.color[idx]*other.volume))/new_volume))\n",
    "        new_color = tuple(result_color)\n",
    "        return Potion(new_color, new_volume)"
   ]
  },
  {
   "cell_type": "markdown",
   "metadata": {},
   "source": [
    "## Orange Tree"
   ]
  },
  {
   "cell_type": "code",
   "execution_count": null,
   "metadata": {},
   "outputs": [],
   "source": [
    "import random as rd\n",
    "\n",
    "class OrangeTree:\n",
    "    def __init__(self):\n",
    "        self.age = 0\n",
    "        self.height = 0\n",
    "        self.fruits = 0\n",
    "        self.dead = False\n",
    "\n",
    "    def one_year_passes(self):\n",
    "        self.fruits = 0\n",
    "        self.age += 1\n",
    "        if (self.age - 50)/50 > rd.random() :\n",
    "            self.dead = True\n",
    "        if self.age <= 10:\n",
    "            self.height += 1\n",
    "        if self.age > 5:\n",
    "            self.fruits += 100\n",
    "        if self.age >= 10:\n",
    "            self.fruits += 100\n",
    "        if self.age >= 15:\n",
    "            self.fruits -= 200\n",
    "\n",
    "    def pick_a_fruit(self):\n",
    "        if self.fruits > 0:\n",
    "            self.fruits -= 1"
   ]
  },
  {
   "cell_type": "markdown",
   "metadata": {},
   "source": [
    "## Self"
   ]
  },
  {
   "cell_type": "code",
   "execution_count": null,
   "metadata": {},
   "outputs": [],
   "source": [
    "class Cat:\n",
    "    def __init__(self):\n",
    "        self.age = 1\n",
    "        self.color = 'brown'\n",
    "        self.weight = 5\n",
    "\n",
    "    def age_10_years(self):\n",
    "        self.age = 10\n",
    "        return(self)\n",
    "\n",
    "    def gain_weight(self):\n",
    "        self.weight = 20\n",
    "        return(self)\n",
    "\n",
    "    def turn_grey(self):\n",
    "        self.color = 'grey'\n",
    "        return(self)"
   ]
  },
  {
   "cell_type": "markdown",
   "metadata": {},
   "source": [
    "## Richest Student"
   ]
  },
  {
   "cell_type": "code",
   "execution_count": null,
   "metadata": {},
   "outputs": [],
   "source": [
    "class Student:\n",
    "    def __init__(self, name, fives, tens, twenties):\n",
    "        self.name = name\n",
    "        self.fives = fives\n",
    "        self.tens = tens\n",
    "        self.twenties = twenties\n",
    "\n",
    "    def __str__(self):\n",
    "        return(f\"{self.name} possède {self.wealth()}.\")\n",
    "\n",
    "    def wealth(self):\n",
    "        return(5*self.fives + 10*self.tens + 20*self.twenties)\n",
    "\n",
    "    def compare(self, other):\n",
    "        if self.wealth() > other.wealth():\n",
    "            return(self.name)\n",
    "        return(other.name)\n",
    "\n",
    "    def advanced_compare(self, list_students):\n",
    "        list_students.append(self)\n",
    "        list_students.sort(key = lambda x: x.wealth(), reverse = True)\n",
    "        return([student.name for student in list_students])"
   ]
  }
 ],
 "metadata": {
  "kernelspec": {
   "display_name": "lewagon_TA",
   "language": "python",
   "name": "python3"
  },
  "language_info": {
   "name": "python",
   "version": "3.10.6"
  }
 },
 "nbformat": 4,
 "nbformat_minor": 2
}
